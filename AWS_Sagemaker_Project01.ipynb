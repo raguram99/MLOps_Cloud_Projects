{
 "cells": [
  {
   "cell_type": "code",
   "execution_count": 60,
   "id": "8e5b4dc3",
   "metadata": {},
   "outputs": [],
   "source": [
    "import pandas as pd\n",
    "import numpy as np\n",
    "import seaborn as sns"
   ]
  },
  {
   "cell_type": "code",
   "execution_count": 61,
   "id": "0219ee3f",
   "metadata": {},
   "outputs": [
    {
     "data": {
      "text/html": [
       "<div>\n",
       "<style scoped>\n",
       "    .dataframe tbody tr th:only-of-type {\n",
       "        vertical-align: middle;\n",
       "    }\n",
       "\n",
       "    .dataframe tbody tr th {\n",
       "        vertical-align: top;\n",
       "    }\n",
       "\n",
       "    .dataframe thead th {\n",
       "        text-align: right;\n",
       "    }\n",
       "</style>\n",
       "<table border=\"1\" class=\"dataframe\">\n",
       "  <thead>\n",
       "    <tr style=\"text-align: right;\">\n",
       "      <th></th>\n",
       "      <th>YearsExperience</th>\n",
       "      <th>Salary</th>\n",
       "    </tr>\n",
       "  </thead>\n",
       "  <tbody>\n",
       "    <tr>\n",
       "      <th>0</th>\n",
       "      <td>1.1</td>\n",
       "      <td>39343.0</td>\n",
       "    </tr>\n",
       "    <tr>\n",
       "      <th>1</th>\n",
       "      <td>1.3</td>\n",
       "      <td>46205.0</td>\n",
       "    </tr>\n",
       "    <tr>\n",
       "      <th>2</th>\n",
       "      <td>1.5</td>\n",
       "      <td>37731.0</td>\n",
       "    </tr>\n",
       "    <tr>\n",
       "      <th>3</th>\n",
       "      <td>2.0</td>\n",
       "      <td>43525.0</td>\n",
       "    </tr>\n",
       "    <tr>\n",
       "      <th>4</th>\n",
       "      <td>2.2</td>\n",
       "      <td>39891.0</td>\n",
       "    </tr>\n",
       "  </tbody>\n",
       "</table>\n",
       "</div>"
      ],
      "text/plain": [
       "   YearsExperience   Salary\n",
       "0              1.1  39343.0\n",
       "1              1.3  46205.0\n",
       "2              1.5  37731.0\n",
       "3              2.0  43525.0\n",
       "4              2.2  39891.0"
      ]
     },
     "execution_count": 61,
     "metadata": {},
     "output_type": "execute_result"
    }
   ],
   "source": [
    "df = pd.read_csv(\"Salary_Data.csv\")\n",
    "df.head()"
   ]
  },
  {
   "cell_type": "code",
   "execution_count": 62,
   "id": "fed14da3",
   "metadata": {},
   "outputs": [
    {
     "name": "stdout",
     "output_type": "stream",
     "text": [
      "<class 'pandas.core.frame.DataFrame'>\n",
      "RangeIndex: 30 entries, 0 to 29\n",
      "Data columns (total 2 columns):\n",
      " #   Column           Non-Null Count  Dtype  \n",
      "---  ------           --------------  -----  \n",
      " 0   YearsExperience  30 non-null     float64\n",
      " 1   Salary           30 non-null     float64\n",
      "dtypes: float64(2)\n",
      "memory usage: 608.0 bytes\n"
     ]
    }
   ],
   "source": [
    "df.info()"
   ]
  },
  {
   "cell_type": "code",
   "execution_count": 63,
   "id": "39136204",
   "metadata": {},
   "outputs": [
    {
     "data": {
      "text/html": [
       "<div>\n",
       "<style scoped>\n",
       "    .dataframe tbody tr th:only-of-type {\n",
       "        vertical-align: middle;\n",
       "    }\n",
       "\n",
       "    .dataframe tbody tr th {\n",
       "        vertical-align: top;\n",
       "    }\n",
       "\n",
       "    .dataframe thead th {\n",
       "        text-align: right;\n",
       "    }\n",
       "</style>\n",
       "<table border=\"1\" class=\"dataframe\">\n",
       "  <thead>\n",
       "    <tr style=\"text-align: right;\">\n",
       "      <th></th>\n",
       "      <th>YearsExperience</th>\n",
       "      <th>Salary</th>\n",
       "    </tr>\n",
       "  </thead>\n",
       "  <tbody>\n",
       "    <tr>\n",
       "      <th>count</th>\n",
       "      <td>30.000000</td>\n",
       "      <td>30.000000</td>\n",
       "    </tr>\n",
       "    <tr>\n",
       "      <th>mean</th>\n",
       "      <td>5.313333</td>\n",
       "      <td>76003.000000</td>\n",
       "    </tr>\n",
       "    <tr>\n",
       "      <th>std</th>\n",
       "      <td>2.837888</td>\n",
       "      <td>27414.429785</td>\n",
       "    </tr>\n",
       "    <tr>\n",
       "      <th>min</th>\n",
       "      <td>1.100000</td>\n",
       "      <td>37731.000000</td>\n",
       "    </tr>\n",
       "    <tr>\n",
       "      <th>25%</th>\n",
       "      <td>3.200000</td>\n",
       "      <td>56720.750000</td>\n",
       "    </tr>\n",
       "    <tr>\n",
       "      <th>50%</th>\n",
       "      <td>4.700000</td>\n",
       "      <td>65237.000000</td>\n",
       "    </tr>\n",
       "    <tr>\n",
       "      <th>75%</th>\n",
       "      <td>7.700000</td>\n",
       "      <td>100544.750000</td>\n",
       "    </tr>\n",
       "    <tr>\n",
       "      <th>max</th>\n",
       "      <td>10.500000</td>\n",
       "      <td>122391.000000</td>\n",
       "    </tr>\n",
       "  </tbody>\n",
       "</table>\n",
       "</div>"
      ],
      "text/plain": [
       "       YearsExperience         Salary\n",
       "count        30.000000      30.000000\n",
       "mean          5.313333   76003.000000\n",
       "std           2.837888   27414.429785\n",
       "min           1.100000   37731.000000\n",
       "25%           3.200000   56720.750000\n",
       "50%           4.700000   65237.000000\n",
       "75%           7.700000  100544.750000\n",
       "max          10.500000  122391.000000"
      ]
     },
     "execution_count": 63,
     "metadata": {},
     "output_type": "execute_result"
    }
   ],
   "source": [
    "df.describe()"
   ]
  },
  {
   "cell_type": "code",
   "execution_count": 64,
   "id": "22f6e2b8",
   "metadata": {},
   "outputs": [],
   "source": [
    "x = df[['YearsExperience']]\n",
    "y = df[['Salary']]"
   ]
  },
  {
   "cell_type": "code",
   "execution_count": 65,
   "id": "a1e4934e",
   "metadata": {},
   "outputs": [],
   "source": [
    "x = np.array(x).astype('float32')\n",
    "y = np.array(y).astype('float32')"
   ]
  },
  {
   "cell_type": "code",
   "execution_count": 66,
   "id": "f3e80141",
   "metadata": {},
   "outputs": [
    {
     "data": {
      "text/plain": [
       "array([[ 39343.],\n",
       "       [ 46205.],\n",
       "       [ 37731.],\n",
       "       [ 43525.],\n",
       "       [ 39891.],\n",
       "       [ 56642.],\n",
       "       [ 60150.],\n",
       "       [ 54445.],\n",
       "       [ 64445.],\n",
       "       [ 57189.],\n",
       "       [ 63218.],\n",
       "       [ 55794.],\n",
       "       [ 56957.],\n",
       "       [ 57081.],\n",
       "       [ 61111.],\n",
       "       [ 67938.],\n",
       "       [ 66029.],\n",
       "       [ 83088.],\n",
       "       [ 81363.],\n",
       "       [ 93940.],\n",
       "       [ 91738.],\n",
       "       [ 98273.],\n",
       "       [101302.],\n",
       "       [113812.],\n",
       "       [109431.],\n",
       "       [105582.],\n",
       "       [116969.],\n",
       "       [112635.],\n",
       "       [122391.],\n",
       "       [121872.]], dtype=float32)"
      ]
     },
     "execution_count": 66,
     "metadata": {},
     "output_type": "execute_result"
    }
   ],
   "source": [
    "y"
   ]
  },
  {
   "cell_type": "code",
   "execution_count": 103,
   "id": "ad1d00ec",
   "metadata": {},
   "outputs": [],
   "source": [
    "from sklearn.model_selection import train_test_split\n",
    "x_train,x_test,y_train,y_test = train_test_split(x,y,test_size=0.2,random_state=100)"
   ]
  },
  {
   "cell_type": "code",
   "execution_count": 104,
   "id": "798fadd7",
   "metadata": {},
   "outputs": [],
   "source": [
    "import sagemaker\n",
    "import boto3\n",
    "from sagemaker import Session\n",
    "Sagemaker_session = sagemaker.Session()\n",
    "bucket = Session().default_bucket()\n",
    "prefix = 'linear_learner'\n",
    "role = sagemaker.get_execution_role()"
   ]
  },
  {
   "cell_type": "code",
   "execution_count": 105,
   "id": "e91f3a6a",
   "metadata": {},
   "outputs": [
    {
     "name": "stdout",
     "output_type": "stream",
     "text": [
      "sagemaker-us-east-1-839885035127\n"
     ]
    }
   ],
   "source": [
    "print(bucket)"
   ]
  },
  {
   "cell_type": "code",
   "execution_count": 106,
   "id": "2d29a311",
   "metadata": {},
   "outputs": [
    {
     "name": "stdout",
     "output_type": "stream",
     "text": [
      "arn:aws:iam::839885035127:role/sagemaker_fullrole\n"
     ]
    }
   ],
   "source": [
    "print(role)"
   ]
  },
  {
   "cell_type": "code",
   "execution_count": 107,
   "id": "9d5dde22",
   "metadata": {},
   "outputs": [
    {
     "data": {
      "text/plain": [
       "(24, 1)"
      ]
     },
     "execution_count": 107,
     "metadata": {},
     "output_type": "execute_result"
    }
   ],
   "source": [
    "x_train.shape"
   ]
  },
  {
   "cell_type": "code",
   "execution_count": 108,
   "id": "444a6e4a",
   "metadata": {},
   "outputs": [
    {
     "data": {
      "text/plain": [
       "(24, 1)"
      ]
     },
     "execution_count": 108,
     "metadata": {},
     "output_type": "execute_result"
    }
   ],
   "source": [
    "y_train.shape"
   ]
  },
  {
   "cell_type": "code",
   "execution_count": 109,
   "id": "b268065f",
   "metadata": {},
   "outputs": [],
   "source": [
    "y_train = y_train[:,0]"
   ]
  },
  {
   "cell_type": "code",
   "execution_count": 110,
   "id": "e19af4f0",
   "metadata": {},
   "outputs": [
    {
     "data": {
      "text/plain": [
       "array([112635., 105582.,  60150.,  83088., 101302.,  55794.,  39891.,\n",
       "       121872.,  39343.,  46205.,  81363.,  61111.,  93940.,  98273.,\n",
       "        37731.,  91738.,  63218.,  66029.,  67938., 113812.,  54445.,\n",
       "        43525., 109431.,  64445.], dtype=float32)"
      ]
     },
     "execution_count": 110,
     "metadata": {},
     "output_type": "execute_result"
    }
   ],
   "source": [
    "y_train"
   ]
  },
  {
   "cell_type": "code",
   "execution_count": 111,
   "id": "b5c4395c",
   "metadata": {},
   "outputs": [
    {
     "data": {
      "text/plain": [
       "0"
      ]
     },
     "execution_count": 111,
     "metadata": {},
     "output_type": "execute_result"
    }
   ],
   "source": [
    "import io\n",
    "import sagemaker.amazon.common as smac\n",
    "buf = io.BytesIO()\n",
    "smac.write_numpy_to_dense_tensor(buf,x_train,y_train)\n",
    "buf.seek(0)"
   ]
  },
  {
   "cell_type": "code",
   "execution_count": 112,
   "id": "7cf61dce",
   "metadata": {},
   "outputs": [
    {
     "name": "stdout",
     "output_type": "stream",
     "text": [
      "s3://sagemaker-us-east-1-839885035127/linear_learner/train/linear-train-data\n"
     ]
    }
   ],
   "source": [
    "import os\n",
    "key = \"linear-train-data\"\n",
    "boto3.resource('s3').Bucket(bucket).Object(os.path.join(prefix, 'train', key)).upload_fileobj(buf)\n",
    "s3_train_data = 's3://{}/{}/train/{}'.format(bucket, prefix, key)\n",
    "print(s3_train_data)"
   ]
  },
  {
   "cell_type": "code",
   "execution_count": 113,
   "id": "2abe04f0",
   "metadata": {},
   "outputs": [],
   "source": [
    "y_test = y_test[:,0]"
   ]
  },
  {
   "cell_type": "code",
   "execution_count": 114,
   "id": "69241ec0",
   "metadata": {},
   "outputs": [
    {
     "data": {
      "text/plain": [
       "array([ 57189., 116969., 122391.,  57081.,  56642.,  56957.],\n",
       "      dtype=float32)"
      ]
     },
     "execution_count": 114,
     "metadata": {},
     "output_type": "execute_result"
    }
   ],
   "source": [
    "y_test"
   ]
  },
  {
   "cell_type": "code",
   "execution_count": 115,
   "id": "13f36d94",
   "metadata": {},
   "outputs": [
    {
     "data": {
      "text/plain": [
       "0"
      ]
     },
     "execution_count": 115,
     "metadata": {},
     "output_type": "execute_result"
    }
   ],
   "source": [
    "buf = io.BytesIO()\n",
    "smac.write_numpy_to_dense_tensor(buf,x_test,y_test)\n",
    "buf.seek(0)"
   ]
  },
  {
   "cell_type": "code",
   "execution_count": 116,
   "id": "e869a4b3",
   "metadata": {},
   "outputs": [
    {
     "name": "stdout",
     "output_type": "stream",
     "text": [
      "s3://sagemaker-us-east-1-839885035127/linear_learner/test/linear-test-data\n"
     ]
    }
   ],
   "source": [
    "key = 'linear-test-data'\n",
    "boto3.Session().resource('s3').Bucket(bucket).Object(os.path.join(prefix,'test',key)).upload_fileobj(buf)\n",
    "s3_test_data = 's3://{}/{}/test/{}'.format(bucket,prefix,key)\n",
    "print(s3_test_data)"
   ]
  },
  {
   "cell_type": "code",
   "execution_count": 117,
   "id": "7a88b657",
   "metadata": {},
   "outputs": [
    {
     "name": "stdout",
     "output_type": "stream",
     "text": [
      "s3://sagemaker-us-east-1-839885035127/linear_learner/output\n"
     ]
    }
   ],
   "source": [
    "output_location = 's3://{}/{}/output'.format(bucket,prefix)\n",
    "print(output_location)"
   ]
  },
  {
   "cell_type": "code",
   "execution_count": 118,
   "id": "6b9ba8ac",
   "metadata": {},
   "outputs": [
    {
     "name": "stderr",
     "output_type": "stream",
     "text": [
      "The method get_image_uri has been renamed in sagemaker>=2.\n",
      "See: https://sagemaker.readthedocs.io/en/stable/v2.html for details.\n"
     ]
    }
   ],
   "source": [
    "from sagemaker.amazon.amazon_estimator import get_image_uri\n",
    "container = get_image_uri(boto3.Session().region_name, 'linear-learner')"
   ]
  },
  {
   "cell_type": "code",
   "execution_count": 122,
   "id": "09b27dde",
   "metadata": {},
   "outputs": [
    {
     "name": "stderr",
     "output_type": "stream",
     "text": [
      "train_instance_count has been renamed in sagemaker>=2.\n",
      "See: https://sagemaker.readthedocs.io/en/stable/v2.html for details.\n",
      "train_instance_type has been renamed in sagemaker>=2.\n",
      "See: https://sagemaker.readthedocs.io/en/stable/v2.html for details.\n"
     ]
    }
   ],
   "source": [
    "linear = sagemaker.estimator.Estimator(container,\n",
    "          role, \n",
    "          train_instance_count = 1, \n",
    "          train_instance_type = 'ml.m5.2xlarge',\n",
    "          output_path = output_location,\n",
    "          sagemaker_session = Sagemaker_session)"
   ]
  },
  {
   "cell_type": "code",
   "execution_count": 124,
   "id": "a92b6e42",
   "metadata": {},
   "outputs": [
    {
     "name": "stdout",
     "output_type": "stream",
     "text": [
      "2022-12-07 13:01:43 Starting - Starting the training job...\n",
      "2022-12-07 13:02:08 Starting - Preparing the instances for trainingProfilerReport-1670418103: InProgress\n",
      "......\n",
      "2022-12-07 13:03:11 Downloading - Downloading input data...\n",
      "2022-12-07 13:03:32 Training - Downloading the training image......\n",
      "2022-12-07 13:04:37 Training - Training image download completed. Training in progress..\u001b[34mDocker entrypoint called with argument(s): train\u001b[0m\n",
      "\u001b[34mRunning default environment configuration script\u001b[0m\n",
      "\u001b[34m[12/07/2022 13:04:40 INFO 139878988891968] Reading default configuration from /opt/amazon/lib/python3.7/site-packages/algorithm/resources/default-input.json: {'mini_batch_size': '1000', 'epochs': '15', 'feature_dim': 'auto', 'use_bias': 'true', 'binary_classifier_model_selection_criteria': 'accuracy', 'f_beta': '1.0', 'target_recall': '0.8', 'target_precision': '0.8', 'num_models': 'auto', 'num_calibration_samples': '10000000', 'init_method': 'uniform', 'init_scale': '0.07', 'init_sigma': '0.01', 'init_bias': '0.0', 'optimizer': 'auto', 'loss': 'auto', 'margin': '1.0', 'quantile': '0.5', 'loss_insensitivity': '0.01', 'huber_delta': '1.0', 'num_classes': '1', 'accuracy_top_k': '3', 'wd': 'auto', 'l1': 'auto', 'momentum': 'auto', 'learning_rate': 'auto', 'beta_1': 'auto', 'beta_2': 'auto', 'bias_lr_mult': 'auto', 'bias_wd_mult': 'auto', 'use_lr_scheduler': 'true', 'lr_scheduler_step': 'auto', 'lr_scheduler_factor': 'auto', 'lr_scheduler_minimum_lr': 'auto', 'positive_example_weight_mult': '1.0', 'balance_multiclass_weights': 'false', 'normalize_data': 'true', 'normalize_label': 'auto', 'unbias_data': 'auto', 'unbias_label': 'auto', 'num_point_for_scaler': '10000', '_kvstore': 'auto', '_num_gpus': 'auto', '_num_kv_servers': 'auto', '_log_level': 'info', '_tuning_objective_metric': '', 'early_stopping_patience': '3', 'early_stopping_tolerance': '0.001', '_enable_profiler': 'false'}\u001b[0m\n",
      "\u001b[34m[12/07/2022 13:04:40 INFO 139878988891968] Merging with provided configuration from /opt/ml/input/config/hyperparameters.json: {'epochs': '5', 'feature_dim': '1', 'loss': 'absolute_loss', 'mini_batch_size': '5', 'num_models': '5', 'predictor_type': 'regressor'}\u001b[0m\n",
      "\u001b[34m[12/07/2022 13:04:40 INFO 139878988891968] Final configuration: {'mini_batch_size': '5', 'epochs': '5', 'feature_dim': '1', 'use_bias': 'true', 'binary_classifier_model_selection_criteria': 'accuracy', 'f_beta': '1.0', 'target_recall': '0.8', 'target_precision': '0.8', 'num_models': '5', 'num_calibration_samples': '10000000', 'init_method': 'uniform', 'init_scale': '0.07', 'init_sigma': '0.01', 'init_bias': '0.0', 'optimizer': 'auto', 'loss': 'absolute_loss', 'margin': '1.0', 'quantile': '0.5', 'loss_insensitivity': '0.01', 'huber_delta': '1.0', 'num_classes': '1', 'accuracy_top_k': '3', 'wd': 'auto', 'l1': 'auto', 'momentum': 'auto', 'learning_rate': 'auto', 'beta_1': 'auto', 'beta_2': 'auto', 'bias_lr_mult': 'auto', 'bias_wd_mult': 'auto', 'use_lr_scheduler': 'true', 'lr_scheduler_step': 'auto', 'lr_scheduler_factor': 'auto', 'lr_scheduler_minimum_lr': 'auto', 'positive_example_weight_mult': '1.0', 'balance_multiclass_weights': 'false', 'normalize_data': 'true', 'normalize_label': 'auto', 'unbias_data': 'auto', 'unbias_label': 'auto', 'num_point_for_scaler': '10000', '_kvstore': 'auto', '_num_gpus': 'auto', '_num_kv_servers': 'auto', '_log_level': 'info', '_tuning_objective_metric': '', 'early_stopping_patience': '3', 'early_stopping_tolerance': '0.001', '_enable_profiler': 'false', 'predictor_type': 'regressor'}\u001b[0m\n",
      "\u001b[34m[12/07/2022 13:04:44 WARNING 139878988891968] Loggers have already been setup.\u001b[0m\n",
      "\u001b[34m[12/07/2022 13:04:44 INFO 139878988891968] Final configuration: {'mini_batch_size': '5', 'epochs': '5', 'feature_dim': '1', 'use_bias': 'true', 'binary_classifier_model_selection_criteria': 'accuracy', 'f_beta': '1.0', 'target_recall': '0.8', 'target_precision': '0.8', 'num_models': '5', 'num_calibration_samples': '10000000', 'init_method': 'uniform', 'init_scale': '0.07', 'init_sigma': '0.01', 'init_bias': '0.0', 'optimizer': 'auto', 'loss': 'absolute_loss', 'margin': '1.0', 'quantile': '0.5', 'loss_insensitivity': '0.01', 'huber_delta': '1.0', 'num_classes': '1', 'accuracy_top_k': '3', 'wd': 'auto', 'l1': 'auto', 'momentum': 'auto', 'learning_rate': 'auto', 'beta_1': 'auto', 'beta_2': 'auto', 'bias_lr_mult': 'auto', 'bias_wd_mult': 'auto', 'use_lr_scheduler': 'true', 'lr_scheduler_step': 'auto', 'lr_scheduler_factor': 'auto', 'lr_scheduler_minimum_lr': 'auto', 'positive_example_weight_mult': '1.0', 'balance_multiclass_weights': 'false', 'normalize_data': 'true', 'normalize_label': 'auto', 'unbias_data': 'auto', 'unbias_label': 'auto', 'num_point_for_scaler': '10000', '_kvstore': 'auto', '_num_gpus': 'auto', '_num_kv_servers': 'auto', '_log_level': 'info', '_tuning_objective_metric': '', 'early_stopping_patience': '3', 'early_stopping_tolerance': '0.001', '_enable_profiler': 'false', 'predictor_type': 'regressor'}\u001b[0m\n",
      "\u001b[34m[12/07/2022 13:04:44 WARNING 139878988891968] Loggers have already been setup.\u001b[0m\n",
      "\u001b[34mProcess 7 is a worker.\u001b[0m\n",
      "\u001b[34m[12/07/2022 13:04:44 INFO 139878988891968] Using default worker.\u001b[0m\n",
      "\u001b[34m[12/07/2022 13:04:44 INFO 139878988891968] Checkpoint loading and saving are disabled.\u001b[0m\n",
      "\u001b[34m[2022-12-07 13:04:44.461] [tensorio] [info] epoch_stats={\"data_pipeline\": \"/opt/ml/input/data/train\", \"epoch\": 0, \"duration\": 12, \"num_examples\": 1, \"num_bytes\": 240}\u001b[0m\n",
      "\u001b[34m[12/07/2022 13:04:44 INFO 139878988891968] Create Store: local\u001b[0m\n",
      "\u001b[34m[2022-12-07 13:04:44.497] [tensorio] [info] epoch_stats={\"data_pipeline\": \"/opt/ml/input/data/train\", \"epoch\": 1, \"duration\": 34, \"num_examples\": 5, \"num_bytes\": 1152}\u001b[0m\n",
      "\u001b[34m[12/07/2022 13:04:44 INFO 139878988891968] Scaler algorithm parameters\n",
      " <algorithm.scaler.ScalerAlgorithmStable object at 0x7f378d95d310>\u001b[0m\n",
      "\u001b[34m[12/07/2022 13:04:44 INFO 139878988891968] Scaling model computed with parameters:\n",
      " {'stdev_label': \u001b[0m\n",
      "\u001b[34m[26194.244]\u001b[0m\n",
      "\u001b[34m<NDArray 1 @cpu(0)>, 'stdev_weight': \u001b[0m\n",
      "\u001b[34m[2.7206433]\u001b[0m\n",
      "\u001b[34m<NDArray 1 @cpu(0)>, 'mean_label': \u001b[0m\n",
      "\u001b[34m[77050.75]\u001b[0m\n",
      "\u001b[34m<NDArray 1 @cpu(0)>, 'mean_weight': \u001b[0m\n",
      "\u001b[34m[5.3900003]\u001b[0m\n",
      "\u001b[34m<NDArray 1 @cpu(0)>}\u001b[0m\n",
      "\u001b[34m[12/07/2022 13:04:44 INFO 139878988891968] nvidia-smi: took 0.032 seconds to run.\u001b[0m\n",
      "\u001b[34m[12/07/2022 13:04:44 INFO 139878988891968] nvidia-smi identified 0 GPUs.\u001b[0m\n",
      "\u001b[34m[12/07/2022 13:04:44 INFO 139878988891968] Number of GPUs being used: 0\u001b[0m\n",
      "\u001b[34m#metrics {\"StartTime\": 1670418284.544177, \"EndTime\": 1670418284.5442085, \"Dimensions\": {\"Algorithm\": \"Linear Learner\", \"Host\": \"algo-1\", \"Operation\": \"training\", \"Meta\": \"init_train_data_iter\"}, \"Metrics\": {\"Total Records Seen\": {\"sum\": 29.0, \"count\": 1, \"min\": 29, \"max\": 29}, \"Total Batches Seen\": {\"sum\": 6.0, \"count\": 1, \"min\": 6, \"max\": 6}, \"Max Records Seen Between Resets\": {\"sum\": 24.0, \"count\": 1, \"min\": 24, \"max\": 24}, \"Max Batches Seen Between Resets\": {\"sum\": 5.0, \"count\": 1, \"min\": 5, \"max\": 5}, \"Reset Count\": {\"sum\": 2.0, \"count\": 1, \"min\": 2, \"max\": 2}, \"Number of Records Since Last Reset\": {\"sum\": 0.0, \"count\": 1, \"min\": 0, \"max\": 0}, \"Number of Batches Since Last Reset\": {\"sum\": 0.0, \"count\": 1, \"min\": 0, \"max\": 0}}}\u001b[0m\n",
      "\u001b[34m[2022-12-07 13:04:44.565] [tensorio] [info] epoch_stats={\"data_pipeline\": \"/opt/ml/input/data/train\", \"epoch\": 4, \"duration\": 20, \"num_examples\": 5, \"num_bytes\": 1152}\u001b[0m\n",
      "\u001b[34m#metrics {\"StartTime\": 1670418284.5653932, \"EndTime\": 1670418284.5654252, \"Dimensions\": {\"Algorithm\": \"Linear Learner\", \"Host\": \"algo-1\", \"Operation\": \"training\", \"epoch\": 0, \"model\": 0}, \"Metrics\": {\"train_absolute_loss_objective\": {\"sum\": 0.8872206449508667, \"count\": 1, \"min\": 0.8872206449508667, \"max\": 0.8872206449508667}}}\u001b[0m\n",
      "\u001b[34m#metrics {\"StartTime\": 1670418284.565492, \"EndTime\": 1670418284.5655053, \"Dimensions\": {\"Algorithm\": \"Linear Learner\", \"Host\": \"algo-1\", \"Operation\": \"training\", \"epoch\": 0, \"model\": 1}, \"Metrics\": {\"train_absolute_loss_objective\": {\"sum\": 0.8821453213691711, \"count\": 1, \"min\": 0.8821453213691711, \"max\": 0.8821453213691711}}}\u001b[0m\n",
      "\u001b[34m#metrics {\"StartTime\": 1670418284.5655468, \"EndTime\": 1670418284.5655556, \"Dimensions\": {\"Algorithm\": \"Linear Learner\", \"Host\": \"algo-1\", \"Operation\": \"training\", \"epoch\": 0, \"model\": 2}, \"Metrics\": {\"train_absolute_loss_objective\": {\"sum\": 0.8680430293083191, \"count\": 1, \"min\": 0.8680430293083191, \"max\": 0.8680430293083191}}}\u001b[0m\n",
      "\u001b[34m#metrics {\"StartTime\": 1670418284.5655935, \"EndTime\": 1670418284.5656033, \"Dimensions\": {\"Algorithm\": \"Linear Learner\", \"Host\": \"algo-1\", \"Operation\": \"training\", \"epoch\": 0, \"model\": 3}, \"Metrics\": {\"train_absolute_loss_objective\": {\"sum\": 0.8531647801399231, \"count\": 1, \"min\": 0.8531647801399231, \"max\": 0.8531647801399231}}}\u001b[0m\n",
      "\u001b[34m#metrics {\"StartTime\": 1670418284.5656414, \"EndTime\": 1670418284.565651, \"Dimensions\": {\"Algorithm\": \"Linear Learner\", \"Host\": \"algo-1\", \"Operation\": \"training\", \"epoch\": 0, \"model\": 4}, \"Metrics\": {\"train_absolute_loss_objective\": {\"sum\": 1.0548229813575745, \"count\": 1, \"min\": 1.0548229813575745, \"max\": 1.0548229813575745}}}\u001b[0m\n",
      "\u001b[34m[12/07/2022 13:04:44 INFO 139878988891968] #quality_metric: host=algo-1, epoch=0, train absolute_loss_objective <loss>=0.8872206449508667\u001b[0m\n",
      "\u001b[34m[12/07/2022 13:04:44 INFO 139878988891968] #early_stopping_criteria_metric: host=algo-1, epoch=0, criteria=absolute_loss_objective, value=0.8531647801399231\u001b[0m\n",
      "\u001b[34m[12/07/2022 13:04:44 INFO 139878988891968] Epoch 0: Loss improved. Updating best model\u001b[0m\n",
      "\u001b[34m[12/07/2022 13:04:44 INFO 139878988891968] Saving model for epoch: 0\u001b[0m\n",
      "\u001b[34m[12/07/2022 13:04:44 INFO 139878988891968] Saved checkpoint to \"/tmp/tmp7ey7f6gn/mx-mod-0000.params\"\u001b[0m\n",
      "\u001b[34m[12/07/2022 13:04:44 INFO 139878988891968] #progress_metric: host=algo-1, completed 20.0 % of epochs\u001b[0m\n",
      "\u001b[34m#metrics {\"StartTime\": 1670418284.5444012, \"EndTime\": 1670418284.5736976, \"Dimensions\": {\"Algorithm\": \"Linear Learner\", \"Host\": \"algo-1\", \"Operation\": \"training\", \"epoch\": 0, \"Meta\": \"training_data_iter\"}, \"Metrics\": {\"Total Records Seen\": {\"sum\": 53.0, \"count\": 1, \"min\": 53, \"max\": 53}, \"Total Batches Seen\": {\"sum\": 11.0, \"count\": 1, \"min\": 11, \"max\": 11}, \"Max Records Seen Between Resets\": {\"sum\": 24.0, \"count\": 1, \"min\": 24, \"max\": 24}, \"Max Batches Seen Between Resets\": {\"sum\": 5.0, \"count\": 1, \"min\": 5, \"max\": 5}, \"Reset Count\": {\"sum\": 3.0, \"count\": 1, \"min\": 3, \"max\": 3}, \"Number of Records Since Last Reset\": {\"sum\": 24.0, \"count\": 1, \"min\": 24, \"max\": 24}, \"Number of Batches Since Last Reset\": {\"sum\": 5.0, \"count\": 1, \"min\": 5, \"max\": 5}}}\u001b[0m\n",
      "\u001b[34m[12/07/2022 13:04:44 INFO 139878988891968] #throughput_metric: host=algo-1, train throughput=816.7473650901833 records/second\u001b[0m\n",
      "\u001b[34m[2022-12-07 13:04:44.583] [tensorio] [info] epoch_stats={\"data_pipeline\": \"/opt/ml/input/data/train\", \"epoch\": 6, \"duration\": 9, \"num_examples\": 5, \"num_bytes\": 1152}\u001b[0m\n",
      "\u001b[34m#metrics {\"StartTime\": 1670418284.583286, \"EndTime\": 1670418284.5833108, \"Dimensions\": {\"Algorithm\": \"Linear Learner\", \"Host\": \"algo-1\", \"Operation\": \"training\", \"epoch\": 1, \"model\": 0}, \"Metrics\": {\"train_absolute_loss_objective\": {\"sum\": 0.8661568880081176, \"count\": 1, \"min\": 0.8661568880081176, \"max\": 0.8661568880081176}}}\u001b[0m\n",
      "\u001b[34m#metrics {\"StartTime\": 1670418284.583355, \"EndTime\": 1670418284.5833664, \"Dimensions\": {\"Algorithm\": \"Linear Learner\", \"Host\": \"algo-1\", \"Operation\": \"training\", \"epoch\": 1, \"model\": 1}, \"Metrics\": {\"train_absolute_loss_objective\": {\"sum\": 0.861081600189209, \"count\": 1, \"min\": 0.861081600189209, \"max\": 0.861081600189209}}}\u001b[0m\n",
      "\u001b[34m#metrics {\"StartTime\": 1670418284.5834043, \"EndTime\": 1670418284.583414, \"Dimensions\": {\"Algorithm\": \"Linear Learner\", \"Host\": \"algo-1\", \"Operation\": \"training\", \"epoch\": 1, \"model\": 2}, \"Metrics\": {\"train_absolute_loss_objective\": {\"sum\": 0.8469793200492859, \"count\": 1, \"min\": 0.8469793200492859, \"max\": 0.8469793200492859}}}\u001b[0m\n",
      "\u001b[34m#metrics {\"StartTime\": 1670418284.5834432, \"EndTime\": 1670418284.5834517, \"Dimensions\": {\"Algorithm\": \"Linear Learner\", \"Host\": \"algo-1\", \"Operation\": \"training\", \"epoch\": 1, \"model\": 3}, \"Metrics\": {\"train_absolute_loss_objective\": {\"sum\": 0.8321010828018188, \"count\": 1, \"min\": 0.8321010828018188, \"max\": 0.8321010828018188}}}\u001b[0m\n",
      "\u001b[34m#metrics {\"StartTime\": 1670418284.5834882, \"EndTime\": 1670418284.5834975, \"Dimensions\": {\"Algorithm\": \"Linear Learner\", \"Host\": \"algo-1\", \"Operation\": \"training\", \"epoch\": 1, \"model\": 4}, \"Metrics\": {\"train_absolute_loss_objective\": {\"sum\": 0.7189996838569641, \"count\": 1, \"min\": 0.7189996838569641, \"max\": 0.7189996838569641}}}\u001b[0m\n",
      "\u001b[34m[12/07/2022 13:04:44 INFO 139878988891968] #quality_metric: host=algo-1, epoch=1, train absolute_loss_objective <loss>=0.8661568880081176\u001b[0m\n",
      "\u001b[34m[12/07/2022 13:04:44 INFO 139878988891968] #early_stopping_criteria_metric: host=algo-1, epoch=1, criteria=absolute_loss_objective, value=0.7189996838569641\u001b[0m\n",
      "\u001b[34m[12/07/2022 13:04:44 INFO 139878988891968] Epoch 1: Loss improved. Updating best model\u001b[0m\n",
      "\u001b[34m[12/07/2022 13:04:44 INFO 139878988891968] Saving model for epoch: 1\u001b[0m\n",
      "\u001b[34m[12/07/2022 13:04:44 INFO 139878988891968] Saved checkpoint to \"/tmp/tmptzw4pg72/mx-mod-0000.params\"\u001b[0m\n",
      "\u001b[34m[12/07/2022 13:04:44 INFO 139878988891968] #progress_metric: host=algo-1, completed 40.0 % of epochs\u001b[0m\n",
      "\u001b[34m#metrics {\"StartTime\": 1670418284.5738935, \"EndTime\": 1670418284.5883484, \"Dimensions\": {\"Algorithm\": \"Linear Learner\", \"Host\": \"algo-1\", \"Operation\": \"training\", \"epoch\": 1, \"Meta\": \"training_data_iter\"}, \"Metrics\": {\"Total Records Seen\": {\"sum\": 77.0, \"count\": 1, \"min\": 77, \"max\": 77}, \"Total Batches Seen\": {\"sum\": 16.0, \"count\": 1, \"min\": 16, \"max\": 16}, \"Max Records Seen Between Resets\": {\"sum\": 24.0, \"count\": 1, \"min\": 24, \"max\": 24}, \"Max Batches Seen Between Resets\": {\"sum\": 5.0, \"count\": 1, \"min\": 5, \"max\": 5}, \"Reset Count\": {\"sum\": 4.0, \"count\": 1, \"min\": 4, \"max\": 4}, \"Number of Records Since Last Reset\": {\"sum\": 24.0, \"count\": 1, \"min\": 24, \"max\": 24}, \"Number of Batches Since Last Reset\": {\"sum\": 5.0, \"count\": 1, \"min\": 5, \"max\": 5}}}\u001b[0m\n",
      "\u001b[34m[12/07/2022 13:04:44 INFO 139878988891968] #throughput_metric: host=algo-1, train throughput=1650.650924832743 records/second\u001b[0m\n",
      "\u001b[34m[2022-12-07 13:04:44.599] [tensorio] [info] epoch_stats={\"data_pipeline\": \"/opt/ml/input/data/train\", \"epoch\": 8, \"duration\": 10, \"num_examples\": 5, \"num_bytes\": 1152}\u001b[0m\n",
      "\u001b[34m#metrics {\"StartTime\": 1670418284.5990222, \"EndTime\": 1670418284.599045, \"Dimensions\": {\"Algorithm\": \"Linear Learner\", \"Host\": \"algo-1\", \"Operation\": \"training\", \"epoch\": 2, \"model\": 0}, \"Metrics\": {\"train_absolute_loss_objective\": {\"sum\": 0.8502167820930481, \"count\": 1, \"min\": 0.8502167820930481, \"max\": 0.8502167820930481}}}\u001b[0m\n",
      "\u001b[34m#metrics {\"StartTime\": 1670418284.59909, \"EndTime\": 1670418284.5990994, \"Dimensions\": {\"Algorithm\": \"Linear Learner\", \"Host\": \"algo-1\", \"Operation\": \"training\", \"epoch\": 2, \"model\": 1}, \"Metrics\": {\"train_absolute_loss_objective\": {\"sum\": 0.8451364398002624, \"count\": 1, \"min\": 0.8451364398002624, \"max\": 0.8451364398002624}}}\u001b[0m\n",
      "\u001b[34m#metrics {\"StartTime\": 1670418284.599128, \"EndTime\": 1670418284.5991347, \"Dimensions\": {\"Algorithm\": \"Linear Learner\", \"Host\": \"algo-1\", \"Operation\": \"training\", \"epoch\": 2, \"model\": 2}, \"Metrics\": {\"train_absolute_loss_objective\": {\"sum\": 0.8310391545295716, \"count\": 1, \"min\": 0.8310391545295716, \"max\": 0.8310391545295716}}}\u001b[0m\n",
      "\u001b[34m#metrics {\"StartTime\": 1670418284.5991635, \"EndTime\": 1670418284.59917, \"Dimensions\": {\"Algorithm\": \"Linear Learner\", \"Host\": \"algo-1\", \"Operation\": \"training\", \"epoch\": 2, \"model\": 3}, \"Metrics\": {\"train_absolute_loss_objective\": {\"sum\": 0.8161559462547302, \"count\": 1, \"min\": 0.8161559462547302, \"max\": 0.8161559462547302}}}\u001b[0m\n",
      "\u001b[34m#metrics {\"StartTime\": 1670418284.5991964, \"EndTime\": 1670418284.5992026, \"Dimensions\": {\"Algorithm\": \"Linear Learner\", \"Host\": \"algo-1\", \"Operation\": \"training\", \"epoch\": 2, \"model\": 4}, \"Metrics\": {\"train_absolute_loss_objective\": {\"sum\": 0.47029680013656616, \"count\": 1, \"min\": 0.47029680013656616, \"max\": 0.47029680013656616}}}\u001b[0m\n",
      "\u001b[34m[12/07/2022 13:04:44 INFO 139878988891968] #quality_metric: host=algo-1, epoch=2, train absolute_loss_objective <loss>=0.8502167820930481\u001b[0m\n",
      "\u001b[34m[12/07/2022 13:04:44 INFO 139878988891968] #early_stopping_criteria_metric: host=algo-1, epoch=2, criteria=absolute_loss_objective, value=0.47029680013656616\u001b[0m\n",
      "\u001b[34m[12/07/2022 13:04:44 INFO 139878988891968] Epoch 2: Loss improved. Updating best model\u001b[0m\n",
      "\u001b[34m[12/07/2022 13:04:44 INFO 139878988891968] Saving model for epoch: 2\u001b[0m\n",
      "\u001b[34m[12/07/2022 13:04:44 INFO 139878988891968] Saved checkpoint to \"/tmp/tmpbjb57f_8/mx-mod-0000.params\"\u001b[0m\n",
      "\u001b[34m[12/07/2022 13:04:44 INFO 139878988891968] #progress_metric: host=algo-1, completed 60.0 % of epochs\u001b[0m\n",
      "\u001b[34m#metrics {\"StartTime\": 1670418284.588537, \"EndTime\": 1670418284.6039686, \"Dimensions\": {\"Algorithm\": \"Linear Learner\", \"Host\": \"algo-1\", \"Operation\": \"training\", \"epoch\": 2, \"Meta\": \"training_data_iter\"}, \"Metrics\": {\"Total Records Seen\": {\"sum\": 101.0, \"count\": 1, \"min\": 101, \"max\": 101}, \"Total Batches Seen\": {\"sum\": 21.0, \"count\": 1, \"min\": 21, \"max\": 21}, \"Max Records Seen Between Resets\": {\"sum\": 24.0, \"count\": 1, \"min\": 24, \"max\": 24}, \"Max Batches Seen Between Resets\": {\"sum\": 5.0, \"count\": 1, \"min\": 5, \"max\": 5}, \"Reset Count\": {\"sum\": 5.0, \"count\": 1, \"min\": 5, \"max\": 5}, \"Number of Records Since Last Reset\": {\"sum\": 24.0, \"count\": 1, \"min\": 24, \"max\": 24}, \"Number of Batches Since Last Reset\": {\"sum\": 5.0, \"count\": 1, \"min\": 5, \"max\": 5}}}\u001b[0m\n",
      "\u001b[34m[12/07/2022 13:04:44 INFO 139878988891968] #throughput_metric: host=algo-1, train throughput=1546.3822047437632 records/second\u001b[0m\n",
      "\u001b[34m[2022-12-07 13:04:44.614] [tensorio] [info] epoch_stats={\"data_pipeline\": \"/opt/ml/input/data/train\", \"epoch\": 10, \"duration\": 10, \"num_examples\": 5, \"num_bytes\": 1152}\u001b[0m\n",
      "\u001b[34m#metrics {\"StartTime\": 1670418284.61433, \"EndTime\": 1670418284.6143534, \"Dimensions\": {\"Algorithm\": \"Linear Learner\", \"Host\": \"algo-1\", \"Operation\": \"training\", \"epoch\": 3, \"model\": 0}, \"Metrics\": {\"train_absolute_loss_objective\": {\"sum\": 0.8349056005477905, \"count\": 1, \"min\": 0.8349056005477905, \"max\": 0.8349056005477905}}}\u001b[0m\n",
      "\u001b[34m#metrics {\"StartTime\": 1670418284.6143994, \"EndTime\": 1670418284.6144085, \"Dimensions\": {\"Algorithm\": \"Linear Learner\", \"Host\": \"algo-1\", \"Operation\": \"training\", \"epoch\": 3, \"model\": 1}, \"Metrics\": {\"train_absolute_loss_objective\": {\"sum\": 0.8297214508056641, \"count\": 1, \"min\": 0.8297214508056641, \"max\": 0.8297214508056641}}}\u001b[0m\n",
      "\u001b[34m#metrics {\"StartTime\": 1670418284.6144404, \"EndTime\": 1670418284.6144474, \"Dimensions\": {\"Algorithm\": \"Linear Learner\", \"Host\": \"algo-1\", \"Operation\": \"training\", \"epoch\": 3, \"model\": 2}, \"Metrics\": {\"train_absolute_loss_objective\": {\"sum\": 0.8157280087471008, \"count\": 1, \"min\": 0.8157280087471008, \"max\": 0.8157280087471008}}}\u001b[0m\n",
      "\u001b[34m#metrics {\"StartTime\": 1670418284.6144736, \"EndTime\": 1670418284.6144798, \"Dimensions\": {\"Algorithm\": \"Linear Learner\", \"Host\": \"algo-1\", \"Operation\": \"training\", \"epoch\": 3, \"model\": 3}, \"Metrics\": {\"train_absolute_loss_objective\": {\"sum\": 0.8007409572601318, \"count\": 1, \"min\": 0.8007409572601318, \"max\": 0.8007409572601318}}}\u001b[0m\n",
      "\u001b[34m#metrics {\"StartTime\": 1670418284.614504, \"EndTime\": 1670418284.61451, \"Dimensions\": {\"Algorithm\": \"Linear Learner\", \"Host\": \"algo-1\", \"Operation\": \"training\", \"epoch\": 3, \"model\": 4}, \"Metrics\": {\"train_absolute_loss_objective\": {\"sum\": 0.38303583264350893, \"count\": 1, \"min\": 0.38303583264350893, \"max\": 0.38303583264350893}}}\u001b[0m\n",
      "\u001b[34m[12/07/2022 13:04:44 INFO 139878988891968] #quality_metric: host=algo-1, epoch=3, train absolute_loss_objective <loss>=0.8349056005477905\u001b[0m\n",
      "\u001b[34m[12/07/2022 13:04:44 INFO 139878988891968] #early_stopping_criteria_metric: host=algo-1, epoch=3, criteria=absolute_loss_objective, value=0.38303583264350893\u001b[0m\n",
      "\u001b[34m[12/07/2022 13:04:44 INFO 139878988891968] Epoch 3: Loss improved. Updating best model\u001b[0m\n",
      "\u001b[34m[12/07/2022 13:04:44 INFO 139878988891968] Saving model for epoch: 3\u001b[0m\n",
      "\u001b[34m[12/07/2022 13:04:44 INFO 139878988891968] Saved checkpoint to \"/tmp/tmpuloqz620/mx-mod-0000.params\"\u001b[0m\n",
      "\u001b[34m[12/07/2022 13:04:44 INFO 139878988891968] #progress_metric: host=algo-1, completed 80.0 % of epochs\u001b[0m\n",
      "\u001b[34m#metrics {\"StartTime\": 1670418284.6041305, \"EndTime\": 1670418284.6196165, \"Dimensions\": {\"Algorithm\": \"Linear Learner\", \"Host\": \"algo-1\", \"Operation\": \"training\", \"epoch\": 3, \"Meta\": \"training_data_iter\"}, \"Metrics\": {\"Total Records Seen\": {\"sum\": 125.0, \"count\": 1, \"min\": 125, \"max\": 125}, \"Total Batches Seen\": {\"sum\": 26.0, \"count\": 1, \"min\": 26, \"max\": 26}, \"Max Records Seen Between Resets\": {\"sum\": 24.0, \"count\": 1, \"min\": 24, \"max\": 24}, \"Max Batches Seen Between Resets\": {\"sum\": 5.0, \"count\": 1, \"min\": 5, \"max\": 5}, \"Reset Count\": {\"sum\": 6.0, \"count\": 1, \"min\": 6, \"max\": 6}, \"Number of Records Since Last Reset\": {\"sum\": 24.0, \"count\": 1, \"min\": 24, \"max\": 24}, \"Number of Batches Since Last Reset\": {\"sum\": 5.0, \"count\": 1, \"min\": 5, \"max\": 5}}}\u001b[0m\n",
      "\u001b[34m[12/07/2022 13:04:44 INFO 139878988891968] #throughput_metric: host=algo-1, train throughput=1541.5984563080033 records/second\u001b[0m\n",
      "\u001b[34m[2022-12-07 13:04:44.630] [tensorio] [info] epoch_stats={\"data_pipeline\": \"/opt/ml/input/data/train\", \"epoch\": 12, \"duration\": 10, \"num_examples\": 5, \"num_bytes\": 1152}\u001b[0m\n",
      "\u001b[34m#metrics {\"StartTime\": 1670418284.6300888, \"EndTime\": 1670418284.6301122, \"Dimensions\": {\"Algorithm\": \"Linear Learner\", \"Host\": \"algo-1\", \"Operation\": \"training\", \"epoch\": 4, \"model\": 0}, \"Metrics\": {\"train_absolute_loss_objective\": {\"sum\": 0.819803512096405, \"count\": 1, \"min\": 0.819803512096405, \"max\": 0.819803512096405}}}\u001b[0m\n",
      "\u001b[34m#metrics {\"StartTime\": 1670418284.6301575, \"EndTime\": 1670418284.6301668, \"Dimensions\": {\"Algorithm\": \"Linear Learner\", \"Host\": \"algo-1\", \"Operation\": \"training\", \"epoch\": 4, \"model\": 1}, \"Metrics\": {\"train_absolute_loss_objective\": {\"sum\": 0.8144668579101563, \"count\": 1, \"min\": 0.8144668579101563, \"max\": 0.8144668579101563}}}\u001b[0m\n",
      "\u001b[34m#metrics {\"StartTime\": 1670418284.6301973, \"EndTime\": 1670418284.6302042, \"Dimensions\": {\"Algorithm\": \"Linear Learner\", \"Host\": \"algo-1\", \"Operation\": \"training\", \"epoch\": 4, \"model\": 2}, \"Metrics\": {\"train_absolute_loss_objective\": {\"sum\": 0.8006259441375733, \"count\": 1, \"min\": 0.8006259441375733, \"max\": 0.8006259441375733}}}\u001b[0m\n",
      "\u001b[34m#metrics {\"StartTime\": 1670418284.63023, \"EndTime\": 1670418284.6302361, \"Dimensions\": {\"Algorithm\": \"Linear Learner\", \"Host\": \"algo-1\", \"Operation\": \"training\", \"epoch\": 4, \"model\": 3}, \"Metrics\": {\"train_absolute_loss_objective\": {\"sum\": 0.785486352443695, \"count\": 1, \"min\": 0.785486352443695, \"max\": 0.785486352443695}}}\u001b[0m\n",
      "\u001b[34m#metrics {\"StartTime\": 1670418284.6302605, \"EndTime\": 1670418284.6302664, \"Dimensions\": {\"Algorithm\": \"Linear Learner\", \"Host\": \"algo-1\", \"Operation\": \"training\", \"epoch\": 4, \"model\": 4}, \"Metrics\": {\"train_absolute_loss_objective\": {\"sum\": 0.4314853310585022, \"count\": 1, \"min\": 0.4314853310585022, \"max\": 0.4314853310585022}}}\u001b[0m\n",
      "\u001b[34m[12/07/2022 13:04:44 INFO 139878988891968] #quality_metric: host=algo-1, epoch=4, train absolute_loss_objective <loss>=0.819803512096405\u001b[0m\n",
      "\u001b[34m[12/07/2022 13:04:44 INFO 139878988891968] #early_stopping_criteria_metric: host=algo-1, epoch=4, criteria=absolute_loss_objective, value=0.4314853310585022\u001b[0m\n",
      "\u001b[34m[12/07/2022 13:04:44 INFO 139878988891968] Saving model for epoch: 4\u001b[0m\n",
      "\u001b[34m[12/07/2022 13:04:44 INFO 139878988891968] Saved checkpoint to \"/tmp/tmp3l9yi1pt/mx-mod-0000.params\"\u001b[0m\n",
      "\u001b[34m[12/07/2022 13:04:44 INFO 139878988891968] #progress_metric: host=algo-1, completed 100.0 % of epochs\u001b[0m\n",
      "\u001b[34m#metrics {\"StartTime\": 1670418284.6197793, \"EndTime\": 1670418284.6344879, \"Dimensions\": {\"Algorithm\": \"Linear Learner\", \"Host\": \"algo-1\", \"Operation\": \"training\", \"epoch\": 4, \"Meta\": \"training_data_iter\"}, \"Metrics\": {\"Total Records Seen\": {\"sum\": 149.0, \"count\": 1, \"min\": 149, \"max\": 149}, \"Total Batches Seen\": {\"sum\": 31.0, \"count\": 1, \"min\": 31, \"max\": 31}, \"Max Records Seen Between Resets\": {\"sum\": 24.0, \"count\": 1, \"min\": 24, \"max\": 24}, \"Max Batches Seen Between Resets\": {\"sum\": 5.0, \"count\": 1, \"min\": 5, \"max\": 5}, \"Reset Count\": {\"sum\": 7.0, \"count\": 1, \"min\": 7, \"max\": 7}, \"Number of Records Since Last Reset\": {\"sum\": 24.0, \"count\": 1, \"min\": 24, \"max\": 24}, \"Number of Batches Since Last Reset\": {\"sum\": 5.0, \"count\": 1, \"min\": 5, \"max\": 5}}}\u001b[0m\n",
      "\u001b[34m[12/07/2022 13:04:44 INFO 139878988891968] #throughput_metric: host=algo-1, train throughput=1622.580892664292 records/second\u001b[0m\n",
      "\u001b[34m[12/07/2022 13:04:44 WARNING 139878988891968] wait_for_all_workers will not sync workers since the kv store is not running distributed\u001b[0m\n",
      "\u001b[34m[12/07/2022 13:04:44 WARNING 139878988891968] wait_for_all_workers will not sync workers since the kv store is not running distributed\u001b[0m\n",
      "\u001b[34m[2022-12-07 13:04:44.635] [tensorio] [info] epoch_stats={\"data_pipeline\": \"/opt/ml/input/data/train\", \"epoch\": 14, \"duration\": 0, \"num_examples\": 1, \"num_bytes\": 240}\u001b[0m\n",
      "\u001b[34m[2022-12-07 13:04:44.642] [tensorio] [info] epoch_stats={\"data_pipeline\": \"/opt/ml/input/data/train\", \"epoch\": 16, \"duration\": 5, \"num_examples\": 5, \"num_bytes\": 1152}\u001b[0m\n",
      "\u001b[34m[12/07/2022 13:04:44 INFO 139878988891968] #train_score (algo-1) : ('absolute_loss_objective', 7529.026692708333)\u001b[0m\n",
      "\u001b[34m[12/07/2022 13:04:44 INFO 139878988891968] #train_score (algo-1) : ('mse', 85591097.33333333)\u001b[0m\n",
      "\u001b[34m[12/07/2022 13:04:44 INFO 139878988891968] #train_score (algo-1) : ('absolute_loss', 7529.026692708333)\u001b[0m\n",
      "\u001b[34m[12/07/2022 13:04:44 INFO 139878988891968] #train_score (algo-1) : ('rmse', 9251.545672661046)\u001b[0m\n",
      "\u001b[34m[12/07/2022 13:04:44 INFO 139878988891968] #train_score (algo-1) : ('r2', 0.8755798251463872)\u001b[0m\n",
      "\u001b[34m[12/07/2022 13:04:44 INFO 139878988891968] #train_score (algo-1) : ('mae', 7529.026774088542)\u001b[0m\n",
      "\u001b[34m[12/07/2022 13:04:44 INFO 139878988891968] #quality_metric: host=algo-1, train absolute_loss_objective <loss>=7529.026692708333\u001b[0m\n",
      "\u001b[34m[12/07/2022 13:04:44 INFO 139878988891968] #quality_metric: host=algo-1, train mse <loss>=85591097.33333333\u001b[0m\n",
      "\u001b[34m[12/07/2022 13:04:44 INFO 139878988891968] #quality_metric: host=algo-1, train absolute_loss <loss>=7529.026692708333\u001b[0m\n",
      "\u001b[34m[12/07/2022 13:04:44 INFO 139878988891968] #quality_metric: host=algo-1, train rmse <loss>=9251.545672661046\u001b[0m\n",
      "\u001b[34m[12/07/2022 13:04:44 INFO 139878988891968] #quality_metric: host=algo-1, train r2 <loss>=0.8755798251463872\u001b[0m\n",
      "\u001b[34m[12/07/2022 13:04:44 INFO 139878988891968] #quality_metric: host=algo-1, train mae <loss>=7529.026774088542\u001b[0m\n",
      "\u001b[34m[12/07/2022 13:04:44 INFO 139878988891968] Best model found for hyperparameters: {\"optimizer\": \"adam\", \"learning_rate\": 0.1, \"wd\": 0.0001, \"l1\": 0.0, \"lr_scheduler_step\": 10, \"lr_scheduler_factor\": 0.99, \"lr_scheduler_minimum_lr\": 1e-05}\u001b[0m\n",
      "\u001b[34m[12/07/2022 13:04:44 INFO 139878988891968] Saved checkpoint to \"/tmp/tmp3jmlktyi/mx-mod-0000.params\"\u001b[0m\n",
      "\u001b[34m[12/07/2022 13:04:44 INFO 139878988891968] Test data is not provided.\u001b[0m\n",
      "\u001b[34m#metrics {\"StartTime\": 1670418284.4487581, \"EndTime\": 1670418284.6476402, \"Dimensions\": {\"Algorithm\": \"Linear Learner\", \"Host\": \"algo-1\", \"Operation\": \"training\"}, \"Metrics\": {\"initialize.time\": {\"sum\": 94.69890594482422, \"count\": 1, \"min\": 94.69890594482422, \"max\": 94.69890594482422}, \"epochs\": {\"sum\": 5.0, \"count\": 1, \"min\": 5, \"max\": 5}, \"check_early_stopping.time\": {\"sum\": 2.907276153564453, \"count\": 5, \"min\": 0.11801719665527344, \"max\": 0.8459091186523438}, \"update.time\": {\"sum\": 77.36015319824219, \"count\": 5, \"min\": 12.63284683227539, \"max\": 24.83224868774414}, \"finalize.time\": {\"sum\": 10.647773742675781, \"count\": 1, \"min\": 10.647773742675781, \"max\": 10.647773742675781}, \"setuptime\": {\"sum\": 2.8002262115478516, \"count\": 1, \"min\": 2.8002262115478516, \"max\": 2.8002262115478516}, \"totaltime\": {\"sum\": 355.0889492034912, \"count\": 1, \"min\": 355.0889492034912, \"max\": 355.0889492034912}}}\u001b[0m\n",
      "\n",
      "2022-12-07 13:05:09 Uploading - Uploading generated training model\n",
      "2022-12-07 13:05:09 Completed - Training job completed\n",
      "Training seconds: 113\n",
      "Billable seconds: 113\n"
     ]
    }
   ],
   "source": [
    "linear.set_hyperparameters(feature_dim = 1,\n",
    "                           predictor_type = 'regressor',\n",
    "                           mini_batch_size = 5,\n",
    "                           epochs = 5,\n",
    "                           num_models = 5,\n",
    "                           loss = 'absolute_loss')\n",
    "linear.fit({'train': s3_train_data})"
   ]
  },
  {
   "cell_type": "code",
   "execution_count": 125,
   "id": "4acf82ce",
   "metadata": {},
   "outputs": [
    {
     "name": "stdout",
     "output_type": "stream",
     "text": [
      "----------!"
     ]
    }
   ],
   "source": [
    "linear_regressor = linear.deploy(initial_instance_count = 1,\n",
    "                                 instance_type = 'ml.m4.xlarge')"
   ]
  },
  {
   "cell_type": "code",
   "execution_count": 127,
   "id": "389793a3",
   "metadata": {},
   "outputs": [],
   "source": [
    "from sagemaker.predictor import csv_serializer, json_deserializer\n",
    "\n",
    "linear_regressor.serializer = csv_serializer\n",
    "linear_regressor.deserializer = json_deserializer"
   ]
  },
  {
   "cell_type": "code",
   "execution_count": 128,
   "id": "e27587ca",
   "metadata": {},
   "outputs": [
    {
     "name": "stderr",
     "output_type": "stream",
     "text": [
      "The csv_serializer has been renamed in sagemaker>=2.\n",
      "See: https://sagemaker.readthedocs.io/en/stable/v2.html for details.\n",
      "The json_deserializer has been renamed in sagemaker>=2.\n",
      "See: https://sagemaker.readthedocs.io/en/stable/v2.html for details.\n"
     ]
    },
    {
     "data": {
      "text/plain": [
       "{'predictions': [{'score': 53349.7265625},\n",
       "  {'score': 117360.890625},\n",
       "  {'score': 126190.015625},\n",
       "  {'score': 57764.2890625},\n",
       "  {'score': 44520.6015625},\n",
       "  {'score': 56660.6484375}]}"
      ]
     },
     "execution_count": 128,
     "metadata": {},
     "output_type": "execute_result"
    }
   ],
   "source": [
    "result = linear_regressor.predict(x_test)\n",
    "result"
   ]
  },
  {
   "cell_type": "code",
   "execution_count": 129,
   "id": "6b76f542",
   "metadata": {},
   "outputs": [
    {
     "data": {
      "text/plain": [
       "array([ 53349.7265625, 117360.890625 , 126190.015625 ,  57764.2890625,\n",
       "        44520.6015625,  56660.6484375])"
      ]
     },
     "execution_count": 129,
     "metadata": {},
     "output_type": "execute_result"
    }
   ],
   "source": [
    "predictions = np.array([r['score'] for r in result['predictions']])\n",
    "predictions"
   ]
  },
  {
   "cell_type": "code",
   "execution_count": 131,
   "id": "8b7e832b",
   "metadata": {},
   "outputs": [
    {
     "data": {
      "text/html": [
       "<div>\n",
       "<style scoped>\n",
       "    .dataframe tbody tr th:only-of-type {\n",
       "        vertical-align: middle;\n",
       "    }\n",
       "\n",
       "    .dataframe tbody tr th {\n",
       "        vertical-align: top;\n",
       "    }\n",
       "\n",
       "    .dataframe thead th {\n",
       "        text-align: right;\n",
       "    }\n",
       "</style>\n",
       "<table border=\"1\" class=\"dataframe\">\n",
       "  <thead>\n",
       "    <tr style=\"text-align: right;\">\n",
       "      <th></th>\n",
       "      <th>Actual</th>\n",
       "      <th>Predicted</th>\n",
       "    </tr>\n",
       "  </thead>\n",
       "  <tbody>\n",
       "    <tr>\n",
       "      <th>0</th>\n",
       "      <td>57189.0</td>\n",
       "      <td>53349.726562</td>\n",
       "    </tr>\n",
       "    <tr>\n",
       "      <th>1</th>\n",
       "      <td>116969.0</td>\n",
       "      <td>117360.890625</td>\n",
       "    </tr>\n",
       "    <tr>\n",
       "      <th>2</th>\n",
       "      <td>122391.0</td>\n",
       "      <td>126190.015625</td>\n",
       "    </tr>\n",
       "    <tr>\n",
       "      <th>3</th>\n",
       "      <td>57081.0</td>\n",
       "      <td>57764.289062</td>\n",
       "    </tr>\n",
       "    <tr>\n",
       "      <th>4</th>\n",
       "      <td>56642.0</td>\n",
       "      <td>44520.601562</td>\n",
       "    </tr>\n",
       "    <tr>\n",
       "      <th>5</th>\n",
       "      <td>56957.0</td>\n",
       "      <td>56660.648438</td>\n",
       "    </tr>\n",
       "  </tbody>\n",
       "</table>\n",
       "</div>"
      ],
      "text/plain": [
       "     Actual      Predicted\n",
       "0   57189.0   53349.726562\n",
       "1  116969.0  117360.890625\n",
       "2  122391.0  126190.015625\n",
       "3   57081.0   57764.289062\n",
       "4   56642.0   44520.601562\n",
       "5   56957.0   56660.648438"
      ]
     },
     "execution_count": 131,
     "metadata": {},
     "output_type": "execute_result"
    }
   ],
   "source": [
    "df = pd.DataFrame({'Actual': y_test.flatten(), 'Predicted': predictions.flatten()})\n",
    "df"
   ]
  },
  {
   "cell_type": "code",
   "execution_count": 132,
   "id": "daee2d42",
   "metadata": {},
   "outputs": [],
   "source": [
    "linear_regressor.delete_endpoint()"
   ]
  },
  {
   "cell_type": "code",
   "execution_count": null,
   "id": "fb05059f",
   "metadata": {},
   "outputs": [],
   "source": []
  }
 ],
 "metadata": {
  "kernelspec": {
   "display_name": "conda_python3",
   "language": "python",
   "name": "conda_python3"
  },
  "language_info": {
   "codemirror_mode": {
    "name": "ipython",
    "version": 3
   },
   "file_extension": ".py",
   "mimetype": "text/x-python",
   "name": "python",
   "nbconvert_exporter": "python",
   "pygments_lexer": "ipython3",
   "version": "3.8.12"
  }
 },
 "nbformat": 4,
 "nbformat_minor": 5
}
